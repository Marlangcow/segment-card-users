{
 "cells": [
  {
   "cell_type": "code",
   "execution_count": 1,
   "metadata": {},
   "outputs": [],
   "source": [
    "# 첫 번째 셀\n",
    "import pandas as pd\n",
    "import numpy as np\n",
    "import matplotlib.pyplot as plt\n",
    "import seaborn as sns\n",
    "import sys\n",
    "import glob\n",
    "from pathlib import Path\n",
    "\n",
    "# 한글 폰트 설정\n",
    "plt.rc('font', family='Malgun Gothic')\n",
    "plt.rc('axes', unicode_minus=False)\n",
    "\n",
    "# 시각화 스타일 설정\n",
    "plt.style.use('seaborn')\n",
    "sns.set_palette('Set2')\n",
    "\n",
    "# 경로 설정\n",
    "sys.path.append('../..')\n",
    "from src.data.data_loader import CreditCardDataLoader"
   ]
  },
  {
   "cell_type": "code",
   "execution_count": 3,
   "metadata": {},
   "outputs": [
    {
     "ename": "ArrowInvalid",
     "evalue": "No match for FieldRef.Name(이용금액_신용_B0M) in 기준년월: int64\nID: string\n최종이용일자_기본: int64\n최종이용일자_신판: int64\n최종이용일자_CA: int64\n최종이용일자_카드론: int64\n최종이용일자_체크: int64\n최종이용일자_일시불: int64\n최종이용일자_할부: int64\n이용건수_신용_B0M: int64\n이용건수_신판_B0M: int64\n이용건수_일시불_B0M: int64\n이용건수_할부_B0M: int64\n이용건수_할부_유이자_B0M: int64\n이용건수_할부_무이자_B0M: int64\n이용건수_부분무이자_B0M: int64\n이용건수_CA_B0M: int64\n이용건수_체크_B0M: int64\n이용건수_카드론_B0M: int64\n이용금액_일시불_B0M: int64\n이용금액_할부_B0M: int64\n이용금액_할부_유이자_B0M: int64\n이용금액_할부_무이자_B0M: int64\n이용금액_부분무이자_B0M: int64\n이용금액_CA_B0M: int64\n이용금액_체크_B0M: int64\n이용금액_카드론_B0M: int64\n이용후경과월_신용: int64\n이용후경과월_신판: int64\n이용후경과월_일시불: int64\n이용후경과월_할부: int64\n이용후경과월_할부_유이자: int64\n이용후경과월_할부_무이자: int64\n이용후경과월_부분무이자: int64\n이용후경과월_CA: int64\n이용후경과월_체크: int64\n이용후경과월_카드론: int64\n이용건수_신용_R12M: int64\n이용건수_신판_R12M: int64\n이용건수_일시불_R12M: int64\n이용건수_할부_R12M: int64\n이용건수_할부_유이자_R12M: int64\n이용건수_할부_무이자_R12M: int64\n이용건수_부분무이자_R12M: int64\n이용건수_CA_R12M: int64\n이용건수_체크_R12M: int64\n이용건수_카드론_R12M: int64\n이용금액_일시불_R12M: int64\n이용금액_할부_R12M: int64\n이용금액_할부_유이자_R12M: int64\n이용금액_할부_무이자_R12M: int64\n이용금액_부분무이자_R12M: int64\n이용금액_CA_R12M: int64\n이용금액_체크_R12M: int64\n이용금액_카드론_R12M: int64\n최대이용금액_일시불_R12M: int64\n최대이용금액_할부_R12M: int64\n최대이용금액_할부_유이자_R12M: int64\n최대이용금액_할부_무이자_R12M: int64\n최대이용금액_부분무이자_R12M: int64\n최대이용금액_CA_R12M: int64\n최대이용금액_체크_R12M: int64\n최대이용금액_카드론_R12M: int64\n이용개월수_신용_R12M: int64\n이용개월수_신판_R12M: int64\n이용개월수_일시불_R12M: int64\n이용개월수_할부_R12M: int64\n이용개월수_할부_유이자_R12M: int64\n이용개월수_할부_무이자_R12M: int64\n이용개월수_부분무이자_R12M: int64\n이용개월수_CA_R12M: int64\n이용개월수_체크_R12M: int64\n이용개월수_카드론_R12M: int64\n이용건수_신용_R6M: int64\n이용건수_신판_R6M: int64\n이용건수_일시불_R6M: int64\n이용건수_할부_R6M: int64\n이용건수_할부_유이자_R6M: int64\n이용건수_할부_무이자_R6M: int64\n이용건수_부분무이자_R6M: int64\n이용건수_CA_R6M: int64\n이용건수_체크_R6M: int64\n이용건수_카드론_R6M: int64\n이용금액_일시불_R6M: int64\n이용금액_할부_R6M: int64\n이용금액_할부_유이자_R6M: int64\n이용금액_할부_무이자_R6M: int64\n이용금액_부분무이자_R6M: int64\n이용금액_CA_R6M: int64\n이용금액_체크_R6M: int64\n이용금액_카드론_R6M: int64\n이용개월수_신용_R6M: int64\n이용개월수_신판_R6M: int64\n이용개월수_일시불_R6M: int64\n이용개월수_할부_R6M: int64\n이용개월수_할부_유이자_R6M: int64\n이용개월수_할부_무이자_R6M: int64\n이용개월수_부분무이자_R6M: int64\n이용개월수_CA_R6M: int64\n이용개월수_체크_R6M: int64\n이용개월수_카드론_R6M: int64\n이용건수_신용_R3M: int64\n이용건수_신판_R3M: int64\n이용건수_일시불_R3M: int64\n이용건수_할부_R3M: int64\n이용건수_할부_유이자_R3M: int64\n이용건수_할부_무이자_R3M: int64\n이용건수_부분무이자_R3M: int64\n이용건수_CA_R3M: int64\n이용건수_체크_R3M: int64\n이용건수_카드론_R3M: int64\n이용금액_일시불_R3M: int64\n이용금액_할부_R3M: int64\n이용금액_할부_유이자_R3M: int64\n이용금액_할부_무이자_R3M: int64\n이용금액_부분무이자_R3M: int64\n이용금액_CA_R3M: int64\n이용금액_체크_R3M: int64\n이용금액_카드론_R3M: int64\n이용개월수_신용_R3M: int64\n이용개월수_신판_R3M: int64\n이용개월수_일시불_R3M: int64\n이용개월수_할부_R3M: int64\n이용개월수_할부_유이자_R3M: int64\n이용개월수_할부_무이자_R3M: int64\n이용개월수_부분무이자_R3M: int64\n이용개월수_CA_R3M: int64\n이용개월수_체크_R3M: int64\n이용개월수_카드론_R3M: int64\n이용가맹점수: int64\n이용금액_해외: int64\n쇼핑_도소매_이용금액: int64\n쇼핑_백화점_이용금액: int64\n쇼핑_마트_이용금액: int64\n쇼핑_슈퍼마켓_이용금액: int64\n쇼핑_편의점_이용금액: int64\n쇼핑_아울렛_이용금액: int64\n쇼핑_온라인_이용금액: int64\n쇼핑_기타_이용금액: int64\n교통_주유이용금액: int64\n교통_정비이용금액: int64\n교통_통행료이용금액: int64\n교통_버스지하철이용금액: int64\n교통_택시이용금액: int64\n교통_철도버스이용금액: int64\n여유_운동이용금액: int64\n여유_Pet이용금액: int64\n여유_공연이용금액: int64\n여유_공원이용금액: int64\n여유_숙박이용금액: int64\n여유_여행이용금액: int64\n여유_항공이용금액: int64\n여유_기타이용금액: int64\n납부_통신비이용금액: int64\n납부_관리비이용금액: int64\n납부_렌탈료이용금액: int64\n납부_가스전기료이용금액: int64\n납부_보험료이용금액: int64\n납부_유선방송이용금액: int64\n납부_건강연금이용금액: int64\n납부_기타이용금액: int64\n_1순위업종: string\n_1순위업종_이용금액: int64\n_2순위업종: string\n_2순위업종_이용금액: int64\n_3순위업종: string\n_3순위업종_이용금액: int64\n_1순위쇼핑업종: string\n_1순위쇼핑업종_이용금액: int64\n_2순위쇼핑업종: string\n_2순위쇼핑업종_이용금액: int64\n_3순위쇼핑업종: string\n_3순위쇼핑업종_이용금액: int64\n_1순위교통업종: string\n_1순위교통업종_이용금액: int64\n_2순위교통업종: string\n_2순위교통업종_이용금액: int64\n_3순위교통업종: string\n_3순위교통업종_이용금액: int64\n_1순위여유업종: string\n_1순위여유업종_이용금액: int64\n_2순위여유업종: string\n_2순위여유업종_이용금액: int64\n_3순위여유업종: string\n_3순위여유업종_이용금액: int64\n_1순위납부업종: string\n_1순위납부업종_이용금액: int64\n_2순위납부업종: string\n_2순위납부업종_이용금액: int64\n_3순위납부업종: string\n_3순위납부업종_이용금액: int64\n할부건수_3M_R12M: int64\n할부건수_6M_R12M: int64\n할부건수_12M_R12M: int64\n할부건수_14M_R12M: int64\n할부금액_3M_R12M: int64\n할부금액_6M_R12M: int64\n할부금액_12M_R12M: int64\n할부금액_14M_R12M: int64\n할부건수_유이자_3M_R12M: int64\n할부건수_유이자_6M_R12M: int64\n할부건수_유이자_12M_R12M: int64\n할부건수_유이자_14M_R12M: int64\n할부금액_유이자_3M_R12M: int64\n할부금액_유이자_6M_R12M: int64\n할부금액_유이자_12M_R12M: int64\n할부금액_유이자_14M_R12M: int64\n할부건수_무이자_3M_R12M: int64\n할부건수_무이자_6M_R12M: int64\n할부건수_무이자_12M_R12M: int64\n할부건수_무이자_14M_R12M: int64\n할부금액_무이자_3M_R12M: int64\n할부금액_무이자_6M_R12M: int64\n할부금액_무이자_12M_R12M: int64\n할부금액_무이자_14M_R12M: int64\n할부건수_부분_3M_R12M: int64\n할부건수_부분_6M_R12M: int64\n할부건수_부분_12M_R12M: int64\n할부건수_부분_14M_R12M: int64\n할부금액_부분_3M_R12M: int64\n할부금액_부분_6M_R12M: int64\n할부금액_부분_12M_R12M: int64\n할부금액_부분_14M_R12M: int64\nRP건수_B0M: int64\nRP금액_B0M: int64\nRP유형건수_B0M: int64\nRP건수_통신_B0M: int64\nRP건수_아파트_B0M: int64\nRP건수_제휴사서비스직접판매_B0M: int64\nRP건수_렌탈_B0M: int64\nRP건수_가스_B0M: int64\nRP건수_전기_B0M: int64\nRP건수_보험_B0M: int64\nRP건수_학습비_B0M: int64\nRP건수_유선방송_B0M: int64\nRP건수_건강_B0M: int64\nRP건수_교통_B0M: int64\nRP후경과월: int64\nRP후경과월_통신: int64\nRP후경과월_아파트: int64\nRP후경과월_제휴사서비스직접판매: int64\nRP후경과월_렌탈: int64\nRP후경과월_가스: int64\nRP후경과월_전기: int64\nRP후경과월_보험: int64\nRP후경과월_학습비: int64\nRP후경과월_유선방송: int64\nRP후경과월_건강: int64\nRP후경과월_교통: int64\n증감_RP건수_전월: int64\n증감_RP유형건수_전월: int64\n증감_RP건수_통신_전월: int64\n증감_RP건수_아파트_전월: int64\n증감_RP건수_제휴사서비스직접판매_전월: int64\n증감_RP건수_렌탈_전월: int64\n증감_RP건수_가스_전월: int64\n증감_RP건수_전기_전월: int64\n증감_RP건수_보험_전월: int64\n증감_RP건수_학습비_전월: int64\n증감_RP건수_유선방송_전월: int64\n증감_RP건수_건강_전월: int64\n증감_RP건수_교통_전월: int64\n최초카드론이용경과월: int64\n최종카드론이용경과월: int64\n카드론이용건수_누적: int64\n카드론이용월수_누적: int64\n카드론이용금액_누적: int64\n최종카드론_금융상환방식코드: double\n최종카드론_신청경로코드: string\n최종카드론_대출이율: double\n최종카드론_대출일자: double\n최종카드론_대출월수: int64\n최종카드론_거치개월수: int64\n최종카드론_대출금액: int64\n이용개월수_온라인_R6M: int64\n이용개월수_오프라인_R6M: int64\n이용금액_온라인_R6M: int64\n이용금액_오프라인_R6M: int64\n이용건수_온라인_R6M: int64\n이용건수_오프라인_R6M: int64\n이용금액_온라인_R3M: int64\n이용금액_오프라인_R3M: int64\n이용건수_온라인_R3M: int64\n이용건수_오프라인_R3M: int64\n이용금액_온라인_B0M: int64\n이용금액_오프라인_B0M: int64\n이용건수_온라인_B0M: int64\n이용건수_오프라인_B0M: int64\n이용개월수_페이_온라인_R6M: int64\n이용개월수_페이_오프라인_R6M: int64\n이용금액_페이_온라인_R6M: int64\n이용금액_페이_오프라인_R6M: int64\n이용건수_페이_온라인_R6M: int64\n이용건수_페이_오프라인_R6M: int64\n이용금액_페이_온라인_R3M: int64\n이용금액_페이_오프라인_R3M: int64\n이용건수_페이_온라인_R3M: int64\n이용건수_페이_오프라인_R3M: int64\n이용금액_페이_온라인_B0M: int64\n이용금액_페이_오프라인_B0M: int64\n이용건수_페이_온라인_B0M: int64\n이용건수_페이_오프라인_B0M: int64\n이용개월수_간편결제_R6M: int64\n이용개월수_당사페이_R6M: int64\n이용개월수_당사기타_R6M: int64\n이용개월수_A페이_R6M: int64\n이용개월수_B페이_R6M: int64\n이용개월수_C페이_R6M: int64\n이용개월수_D페이_R6M: int64\n이용금액_간편결제_R6M: int64\n이용금액_당사페이_R6M: int64\n이용금액_당사기타_R6M: int64\n이용금액_A페이_R6M: int64\n이용금액_B페이_R6M: int64\n이용금액_C페이_R6M: int64\n이용금액_D페이_R6M: int64\n이용건수_간편결제_R6M: int64\n이용건수_당사페이_R6M: int64\n이용건수_당사기타_R6M: int64\n이용건수_A페이_R6M: int64\n이용건수_B페이_R6M: int64\n이용건수_C페이_R6M: int64\n이용건수_D페이_R6M: int64\n이용금액_간편결제_R3M: int64\n이용금액_당사페이_R3M: int64\n이용금액_당사기타_R3M: int64\n이용금액_A페이_R3M: int64\n이용금액_B페이_R3M: int64\n이용금액_C페이_R3M: int64\n이용금액_D페이_R3M: int64\n이용건수_간편결제_R3M: int64\n이용건수_당사페이_R3M: int64\n이용건수_당사기타_R3M: int64\n이용건수_A페이_R3M: int64\n이용건수_B페이_R3M: int64\n이용건수_C페이_R3M: int64\n이용건수_D페이_R3M: int64\n이용금액_간편결제_B0M: int64\n이용금액_당사페이_B0M: int64\n이용금액_당사기타_B0M: int64\n이용금액_A페이_B0M: int64\n이용금액_B페이_B0M: int64\n이용금액_C페이_B0M: int64\n이용금액_D페이_B0M: int64\n이용건수_간편결제_B0M: int64\n이용건수_당사페이_B0M: int64\n이용건수_당사기타_B0M: int64\n이용건수_A페이_B0M: int64\n이용건수_B페이_B0M: int64\n이용건수_C페이_B0M: int64\n이용건수_D페이_B0M: int64\n이용개월수_선결제_R6M: int64\n이용횟수_선결제_R6M: int64\n이용금액_선결제_R6M: int64\n이용건수_선결제_R6M: int64\n이용횟수_선결제_R3M: int64\n이용금액_선결제_R3M: int64\n이용건수_선결제_R3M: int64\n이용횟수_선결제_B0M: int64\n이용금액_선결제_B0M: int64\n이용건수_선결제_B0M: int64\n이용횟수_연체_R6M: int64\n이용금액_연체_R6M: int64\n이용횟수_연체_R3M: int64\n이용금액_연체_R3M: int64\n이용횟수_연체_B0M: int64\n이용금액_연체_B0M: int64\n이용개월수_전체_R6M: int64\n이용개월수_전체_R3M: int64\n이용개월수_결제일_R6M: int64\n이용개월수_결제일_R3M: int64\n가맹점매출금액_B1M: int64\n가맹점매출금액_B2M: int64\n정상청구원금_B0M: int64\n선입금원금_B0M: int64\n정상입금원금_B0M: int64\n연체입금원금_B0M: int64\n정상청구원금_B2M: int64\n선입금원금_B2M: int64\n정상입금원금_B2M: int64\n연체입금원금_B2M: int64\n정상청구원금_B5M: int64\n선입금원금_B5M: int64\n정상입금원금_B5M: int64\n연체입금원금_B5M: int64\n건수_할부전환_R6M: int64\n건수_할부전환_R3M: int64\n금액_할부전환_R6M: int64\n금액_할부전환_R3M: int64\n연속무실적개월수_기본_24M_카드: int64\n연속유실적개월수_기본_24M_카드: int64\n신청건수_ATM_CA_B0: int64\n신청건수_ATM_CL_B0: int64\n신청건수_ATM_CA_R6M: int64\n신청건수_ATM_CL_R6M: int64\n승인거절건수_B0M: int64\n승인거절건수_한도초과_B0M: int64\n승인거절건수_BL_B0M: int64\n승인거절건수_입력오류_B0M: int64\n승인거절건수_기타_B0M: int64\n승인거절건수_R3M: int64\n승인거절건수_한도초과_R3M: int64\n승인거절건수_BL_R3M: int64\n승인거절건수_입력오류_R3M: int64\n승인거절건수_기타_R3M: int64\n이용금액대: string\n__fragment_index: int32\n__batch_index: int32\n__last_in_fragment: bool\n__filename: string",
     "output_type": "error",
     "traceback": [
      "\u001b[1;31m---------------------------------------------------------------------------\u001b[0m",
      "\u001b[1;31mArrowInvalid\u001b[0m                              Traceback (most recent call last)",
      "Cell \u001b[1;32mIn[3], line 21\u001b[0m\n\u001b[0;32m     19\u001b[0m \u001b[38;5;66;03m# 승인매출 데이터 로드\u001b[39;00m\n\u001b[0;32m     20\u001b[0m transaction_files \u001b[38;5;241m=\u001b[39m glob\u001b[38;5;241m.\u001b[39mglob(\u001b[38;5;28mstr\u001b[39m(Path(data_path) \u001b[38;5;241m/\u001b[39m \u001b[38;5;124m'\u001b[39m\u001b[38;5;124m3.승인매출정보\u001b[39m\u001b[38;5;124m'\u001b[39m \u001b[38;5;241m/\u001b[39m \u001b[38;5;124m'\u001b[39m\u001b[38;5;124m*.parquet\u001b[39m\u001b[38;5;124m'\u001b[39m))\n\u001b[1;32m---> 21\u001b[0m transaction_df \u001b[38;5;241m=\u001b[39m pd\u001b[38;5;241m.\u001b[39mconcat([pd\u001b[38;5;241m.\u001b[39mread_parquet(f, columns\u001b[38;5;241m=\u001b[39mtransaction_cols) \u001b[38;5;28;01mfor\u001b[39;00m f \u001b[38;5;129;01min\u001b[39;00m transaction_files], ignore_index\u001b[38;5;241m=\u001b[39m\u001b[38;5;28;01mTrue\u001b[39;00m)\n\u001b[0;32m     23\u001b[0m \u001b[38;5;66;03m# 데이터 타입 최적화\u001b[39;00m\n\u001b[0;32m     24\u001b[0m member_df[\u001b[38;5;124m'\u001b[39m\u001b[38;5;124m연령\u001b[39m\u001b[38;5;124m'\u001b[39m] \u001b[38;5;241m=\u001b[39m member_df[\u001b[38;5;124m'\u001b[39m\u001b[38;5;124m연령\u001b[39m\u001b[38;5;124m'\u001b[39m]\u001b[38;5;241m.\u001b[39mastype(\u001b[38;5;124m'\u001b[39m\u001b[38;5;124mint8\u001b[39m\u001b[38;5;124m'\u001b[39m)\n",
      "Cell \u001b[1;32mIn[3], line 21\u001b[0m, in \u001b[0;36m<listcomp>\u001b[1;34m(.0)\u001b[0m\n\u001b[0;32m     19\u001b[0m \u001b[38;5;66;03m# 승인매출 데이터 로드\u001b[39;00m\n\u001b[0;32m     20\u001b[0m transaction_files \u001b[38;5;241m=\u001b[39m glob\u001b[38;5;241m.\u001b[39mglob(\u001b[38;5;28mstr\u001b[39m(Path(data_path) \u001b[38;5;241m/\u001b[39m \u001b[38;5;124m'\u001b[39m\u001b[38;5;124m3.승인매출정보\u001b[39m\u001b[38;5;124m'\u001b[39m \u001b[38;5;241m/\u001b[39m \u001b[38;5;124m'\u001b[39m\u001b[38;5;124m*.parquet\u001b[39m\u001b[38;5;124m'\u001b[39m))\n\u001b[1;32m---> 21\u001b[0m transaction_df \u001b[38;5;241m=\u001b[39m pd\u001b[38;5;241m.\u001b[39mconcat([\u001b[43mpd\u001b[49m\u001b[38;5;241;43m.\u001b[39;49m\u001b[43mread_parquet\u001b[49m\u001b[43m(\u001b[49m\u001b[43mf\u001b[49m\u001b[43m,\u001b[49m\u001b[43m \u001b[49m\u001b[43mcolumns\u001b[49m\u001b[38;5;241;43m=\u001b[39;49m\u001b[43mtransaction_cols\u001b[49m\u001b[43m)\u001b[49m \u001b[38;5;28;01mfor\u001b[39;00m f \u001b[38;5;129;01min\u001b[39;00m transaction_files], ignore_index\u001b[38;5;241m=\u001b[39m\u001b[38;5;28;01mTrue\u001b[39;00m)\n\u001b[0;32m     23\u001b[0m \u001b[38;5;66;03m# 데이터 타입 최적화\u001b[39;00m\n\u001b[0;32m     24\u001b[0m member_df[\u001b[38;5;124m'\u001b[39m\u001b[38;5;124m연령\u001b[39m\u001b[38;5;124m'\u001b[39m] \u001b[38;5;241m=\u001b[39m member_df[\u001b[38;5;124m'\u001b[39m\u001b[38;5;124m연령\u001b[39m\u001b[38;5;124m'\u001b[39m]\u001b[38;5;241m.\u001b[39mastype(\u001b[38;5;124m'\u001b[39m\u001b[38;5;124mint8\u001b[39m\u001b[38;5;124m'\u001b[39m)\n",
      "File \u001b[1;32mc:\\Users\\naeun\\Miniconda3\\envs\\credit-segment\\lib\\site-packages\\pandas\\io\\parquet.py:503\u001b[0m, in \u001b[0;36mread_parquet\u001b[1;34m(path, engine, columns, storage_options, use_nullable_dtypes, **kwargs)\u001b[0m\n\u001b[0;32m    456\u001b[0m \u001b[38;5;250m\u001b[39m\u001b[38;5;124;03m\"\"\"\u001b[39;00m\n\u001b[0;32m    457\u001b[0m \u001b[38;5;124;03mLoad a parquet object from the file path, returning a DataFrame.\u001b[39;00m\n\u001b[0;32m    458\u001b[0m \n\u001b[1;32m   (...)\u001b[0m\n\u001b[0;32m    499\u001b[0m \u001b[38;5;124;03mDataFrame\u001b[39;00m\n\u001b[0;32m    500\u001b[0m \u001b[38;5;124;03m\"\"\"\u001b[39;00m\n\u001b[0;32m    501\u001b[0m impl \u001b[38;5;241m=\u001b[39m get_engine(engine)\n\u001b[1;32m--> 503\u001b[0m \u001b[38;5;28;01mreturn\u001b[39;00m impl\u001b[38;5;241m.\u001b[39mread(\n\u001b[0;32m    504\u001b[0m     path,\n\u001b[0;32m    505\u001b[0m     columns\u001b[38;5;241m=\u001b[39mcolumns,\n\u001b[0;32m    506\u001b[0m     storage_options\u001b[38;5;241m=\u001b[39mstorage_options,\n\u001b[0;32m    507\u001b[0m     use_nullable_dtypes\u001b[38;5;241m=\u001b[39muse_nullable_dtypes,\n\u001b[0;32m    508\u001b[0m     \u001b[38;5;241m*\u001b[39m\u001b[38;5;241m*\u001b[39mkwargs,\n\u001b[0;32m    509\u001b[0m )\n",
      "File \u001b[1;32mc:\\Users\\naeun\\Miniconda3\\envs\\credit-segment\\lib\\site-packages\\pandas\\io\\parquet.py:251\u001b[0m, in \u001b[0;36mPyArrowImpl.read\u001b[1;34m(self, path, columns, use_nullable_dtypes, storage_options, **kwargs)\u001b[0m\n\u001b[0;32m    244\u001b[0m path_or_handle, handles, kwargs[\u001b[38;5;124m\"\u001b[39m\u001b[38;5;124mfilesystem\u001b[39m\u001b[38;5;124m\"\u001b[39m] \u001b[38;5;241m=\u001b[39m _get_path_or_handle(\n\u001b[0;32m    245\u001b[0m     path,\n\u001b[0;32m    246\u001b[0m     kwargs\u001b[38;5;241m.\u001b[39mpop(\u001b[38;5;124m\"\u001b[39m\u001b[38;5;124mfilesystem\u001b[39m\u001b[38;5;124m\"\u001b[39m, \u001b[38;5;28;01mNone\u001b[39;00m),\n\u001b[0;32m    247\u001b[0m     storage_options\u001b[38;5;241m=\u001b[39mstorage_options,\n\u001b[0;32m    248\u001b[0m     mode\u001b[38;5;241m=\u001b[39m\u001b[38;5;124m\"\u001b[39m\u001b[38;5;124mrb\u001b[39m\u001b[38;5;124m\"\u001b[39m,\n\u001b[0;32m    249\u001b[0m )\n\u001b[0;32m    250\u001b[0m \u001b[38;5;28;01mtry\u001b[39;00m:\n\u001b[1;32m--> 251\u001b[0m     result \u001b[38;5;241m=\u001b[39m \u001b[38;5;28mself\u001b[39m\u001b[38;5;241m.\u001b[39mapi\u001b[38;5;241m.\u001b[39mparquet\u001b[38;5;241m.\u001b[39mread_table(\n\u001b[0;32m    252\u001b[0m         path_or_handle, columns\u001b[38;5;241m=\u001b[39mcolumns, \u001b[38;5;241m*\u001b[39m\u001b[38;5;241m*\u001b[39mkwargs\n\u001b[0;32m    253\u001b[0m     )\u001b[38;5;241m.\u001b[39mto_pandas(\u001b[38;5;241m*\u001b[39m\u001b[38;5;241m*\u001b[39mto_pandas_kwargs)\n\u001b[0;32m    254\u001b[0m     \u001b[38;5;28;01mif\u001b[39;00m manager \u001b[38;5;241m==\u001b[39m \u001b[38;5;124m\"\u001b[39m\u001b[38;5;124marray\u001b[39m\u001b[38;5;124m\"\u001b[39m:\n\u001b[0;32m    255\u001b[0m         result \u001b[38;5;241m=\u001b[39m result\u001b[38;5;241m.\u001b[39m_as_manager(\u001b[38;5;124m\"\u001b[39m\u001b[38;5;124marray\u001b[39m\u001b[38;5;124m\"\u001b[39m, copy\u001b[38;5;241m=\u001b[39m\u001b[38;5;28;01mFalse\u001b[39;00m)\n",
      "File \u001b[1;32mc:\\Users\\naeun\\Miniconda3\\envs\\credit-segment\\lib\\site-packages\\pyarrow\\parquet\\core.py:3003\u001b[0m, in \u001b[0;36mread_table\u001b[1;34m(source, columns, use_threads, metadata, schema, use_pandas_metadata, read_dictionary, memory_map, buffer_size, partitioning, filesystem, filters, use_legacy_dataset, ignore_prefixes, pre_buffer, coerce_int96_timestamp_unit, decryption_properties, thrift_string_size_limit, thrift_container_size_limit)\u001b[0m\n\u001b[0;32m   2992\u001b[0m         \u001b[38;5;66;03m# TODO test that source is not a directory or a list\u001b[39;00m\n\u001b[0;32m   2993\u001b[0m         dataset \u001b[38;5;241m=\u001b[39m ParquetFile(\n\u001b[0;32m   2994\u001b[0m             source, metadata\u001b[38;5;241m=\u001b[39mmetadata, read_dictionary\u001b[38;5;241m=\u001b[39mread_dictionary,\n\u001b[0;32m   2995\u001b[0m             memory_map\u001b[38;5;241m=\u001b[39mmemory_map, buffer_size\u001b[38;5;241m=\u001b[39mbuffer_size,\n\u001b[1;32m   (...)\u001b[0m\n\u001b[0;32m   3000\u001b[0m             thrift_container_size_limit\u001b[38;5;241m=\u001b[39mthrift_container_size_limit,\n\u001b[0;32m   3001\u001b[0m         )\n\u001b[1;32m-> 3003\u001b[0m     \u001b[38;5;28;01mreturn\u001b[39;00m \u001b[43mdataset\u001b[49m\u001b[38;5;241;43m.\u001b[39;49m\u001b[43mread\u001b[49m\u001b[43m(\u001b[49m\u001b[43mcolumns\u001b[49m\u001b[38;5;241;43m=\u001b[39;49m\u001b[43mcolumns\u001b[49m\u001b[43m,\u001b[49m\u001b[43m \u001b[49m\u001b[43muse_threads\u001b[49m\u001b[38;5;241;43m=\u001b[39;49m\u001b[43muse_threads\u001b[49m\u001b[43m,\u001b[49m\n\u001b[0;32m   3004\u001b[0m \u001b[43m                        \u001b[49m\u001b[43muse_pandas_metadata\u001b[49m\u001b[38;5;241;43m=\u001b[39;49m\u001b[43muse_pandas_metadata\u001b[49m\u001b[43m)\u001b[49m\n\u001b[0;32m   3006\u001b[0m warnings\u001b[38;5;241m.\u001b[39mwarn(\n\u001b[0;32m   3007\u001b[0m     \u001b[38;5;124m\"\u001b[39m\u001b[38;5;124mPassing \u001b[39m\u001b[38;5;124m'\u001b[39m\u001b[38;5;124muse_legacy_dataset=True\u001b[39m\u001b[38;5;124m'\u001b[39m\u001b[38;5;124m to get the legacy behaviour is \u001b[39m\u001b[38;5;124m\"\u001b[39m\n\u001b[0;32m   3008\u001b[0m     \u001b[38;5;124m\"\u001b[39m\u001b[38;5;124mdeprecated as of pyarrow 8.0.0, and the legacy implementation will \u001b[39m\u001b[38;5;124m\"\u001b[39m\n\u001b[0;32m   3009\u001b[0m     \u001b[38;5;124m\"\u001b[39m\u001b[38;5;124mbe removed in a future version.\u001b[39m\u001b[38;5;124m\"\u001b[39m,\n\u001b[0;32m   3010\u001b[0m     \u001b[38;5;167;01mFutureWarning\u001b[39;00m, stacklevel\u001b[38;5;241m=\u001b[39m\u001b[38;5;241m2\u001b[39m)\n\u001b[0;32m   3012\u001b[0m \u001b[38;5;28;01mif\u001b[39;00m ignore_prefixes \u001b[38;5;129;01mis\u001b[39;00m \u001b[38;5;129;01mnot\u001b[39;00m \u001b[38;5;28;01mNone\u001b[39;00m:\n",
      "File \u001b[1;32mc:\\Users\\naeun\\Miniconda3\\envs\\credit-segment\\lib\\site-packages\\pyarrow\\parquet\\core.py:2631\u001b[0m, in \u001b[0;36m_ParquetDatasetV2.read\u001b[1;34m(self, columns, use_threads, use_pandas_metadata)\u001b[0m\n\u001b[0;32m   2623\u001b[0m         index_columns \u001b[38;5;241m=\u001b[39m [\n\u001b[0;32m   2624\u001b[0m             col \u001b[38;5;28;01mfor\u001b[39;00m col \u001b[38;5;129;01min\u001b[39;00m _get_pandas_index_columns(metadata)\n\u001b[0;32m   2625\u001b[0m             \u001b[38;5;28;01mif\u001b[39;00m \u001b[38;5;129;01mnot\u001b[39;00m \u001b[38;5;28misinstance\u001b[39m(col, \u001b[38;5;28mdict\u001b[39m)\n\u001b[0;32m   2626\u001b[0m         ]\n\u001b[0;32m   2627\u001b[0m         columns \u001b[38;5;241m=\u001b[39m (\n\u001b[0;32m   2628\u001b[0m             \u001b[38;5;28mlist\u001b[39m(columns) \u001b[38;5;241m+\u001b[39m \u001b[38;5;28mlist\u001b[39m(\u001b[38;5;28mset\u001b[39m(index_columns) \u001b[38;5;241m-\u001b[39m \u001b[38;5;28mset\u001b[39m(columns))\n\u001b[0;32m   2629\u001b[0m         )\n\u001b[1;32m-> 2631\u001b[0m table \u001b[38;5;241m=\u001b[39m \u001b[38;5;28;43mself\u001b[39;49m\u001b[38;5;241;43m.\u001b[39;49m\u001b[43m_dataset\u001b[49m\u001b[38;5;241;43m.\u001b[39;49m\u001b[43mto_table\u001b[49m\u001b[43m(\u001b[49m\n\u001b[0;32m   2632\u001b[0m \u001b[43m    \u001b[49m\u001b[43mcolumns\u001b[49m\u001b[38;5;241;43m=\u001b[39;49m\u001b[43mcolumns\u001b[49m\u001b[43m,\u001b[49m\u001b[43m \u001b[49m\u001b[38;5;28;43mfilter\u001b[39;49m\u001b[38;5;241;43m=\u001b[39;49m\u001b[38;5;28;43mself\u001b[39;49m\u001b[38;5;241;43m.\u001b[39;49m\u001b[43m_filter_expression\u001b[49m\u001b[43m,\u001b[49m\n\u001b[0;32m   2633\u001b[0m \u001b[43m    \u001b[49m\u001b[43muse_threads\u001b[49m\u001b[38;5;241;43m=\u001b[39;49m\u001b[43muse_threads\u001b[49m\n\u001b[0;32m   2634\u001b[0m \u001b[43m\u001b[49m\u001b[43m)\u001b[49m\n\u001b[0;32m   2636\u001b[0m \u001b[38;5;66;03m# if use_pandas_metadata, restore the pandas metadata (which gets\u001b[39;00m\n\u001b[0;32m   2637\u001b[0m \u001b[38;5;66;03m# lost if doing a specific `columns` selection in to_table)\u001b[39;00m\n\u001b[0;32m   2638\u001b[0m \u001b[38;5;28;01mif\u001b[39;00m use_pandas_metadata:\n",
      "File \u001b[1;32mc:\\Users\\naeun\\Miniconda3\\envs\\credit-segment\\lib\\site-packages\\pyarrow\\_dataset.pyx:547\u001b[0m, in \u001b[0;36mpyarrow._dataset.Dataset.to_table\u001b[1;34m()\u001b[0m\n",
      "File \u001b[1;32mc:\\Users\\naeun\\Miniconda3\\envs\\credit-segment\\lib\\site-packages\\pyarrow\\_dataset.pyx:393\u001b[0m, in \u001b[0;36mpyarrow._dataset.Dataset.scanner\u001b[1;34m()\u001b[0m\n",
      "File \u001b[1;32mc:\\Users\\naeun\\Miniconda3\\envs\\credit-segment\\lib\\site-packages\\pyarrow\\_dataset.pyx:3466\u001b[0m, in \u001b[0;36mpyarrow._dataset.Scanner.from_dataset\u001b[1;34m()\u001b[0m\n",
      "File \u001b[1;32mc:\\Users\\naeun\\Miniconda3\\envs\\credit-segment\\lib\\site-packages\\pyarrow\\_dataset.pyx:3384\u001b[0m, in \u001b[0;36mpyarrow._dataset.Scanner._make_scan_options\u001b[1;34m()\u001b[0m\n",
      "File \u001b[1;32mc:\\Users\\naeun\\Miniconda3\\envs\\credit-segment\\lib\\site-packages\\pyarrow\\_dataset.pyx:3335\u001b[0m, in \u001b[0;36mpyarrow._dataset._populate_builder\u001b[1;34m()\u001b[0m\n",
      "File \u001b[1;32mc:\\Users\\naeun\\Miniconda3\\envs\\credit-segment\\lib\\site-packages\\pyarrow\\error.pxi:91\u001b[0m, in \u001b[0;36mpyarrow.lib.check_status\u001b[1;34m()\u001b[0m\n",
      "\u001b[1;31mArrowInvalid\u001b[0m: No match for FieldRef.Name(이용금액_신용_B0M) in 기준년월: int64\nID: string\n최종이용일자_기본: int64\n최종이용일자_신판: int64\n최종이용일자_CA: int64\n최종이용일자_카드론: int64\n최종이용일자_체크: int64\n최종이용일자_일시불: int64\n최종이용일자_할부: int64\n이용건수_신용_B0M: int64\n이용건수_신판_B0M: int64\n이용건수_일시불_B0M: int64\n이용건수_할부_B0M: int64\n이용건수_할부_유이자_B0M: int64\n이용건수_할부_무이자_B0M: int64\n이용건수_부분무이자_B0M: int64\n이용건수_CA_B0M: int64\n이용건수_체크_B0M: int64\n이용건수_카드론_B0M: int64\n이용금액_일시불_B0M: int64\n이용금액_할부_B0M: int64\n이용금액_할부_유이자_B0M: int64\n이용금액_할부_무이자_B0M: int64\n이용금액_부분무이자_B0M: int64\n이용금액_CA_B0M: int64\n이용금액_체크_B0M: int64\n이용금액_카드론_B0M: int64\n이용후경과월_신용: int64\n이용후경과월_신판: int64\n이용후경과월_일시불: int64\n이용후경과월_할부: int64\n이용후경과월_할부_유이자: int64\n이용후경과월_할부_무이자: int64\n이용후경과월_부분무이자: int64\n이용후경과월_CA: int64\n이용후경과월_체크: int64\n이용후경과월_카드론: int64\n이용건수_신용_R12M: int64\n이용건수_신판_R12M: int64\n이용건수_일시불_R12M: int64\n이용건수_할부_R12M: int64\n이용건수_할부_유이자_R12M: int64\n이용건수_할부_무이자_R12M: int64\n이용건수_부분무이자_R12M: int64\n이용건수_CA_R12M: int64\n이용건수_체크_R12M: int64\n이용건수_카드론_R12M: int64\n이용금액_일시불_R12M: int64\n이용금액_할부_R12M: int64\n이용금액_할부_유이자_R12M: int64\n이용금액_할부_무이자_R12M: int64\n이용금액_부분무이자_R12M: int64\n이용금액_CA_R12M: int64\n이용금액_체크_R12M: int64\n이용금액_카드론_R12M: int64\n최대이용금액_일시불_R12M: int64\n최대이용금액_할부_R12M: int64\n최대이용금액_할부_유이자_R12M: int64\n최대이용금액_할부_무이자_R12M: int64\n최대이용금액_부분무이자_R12M: int64\n최대이용금액_CA_R12M: int64\n최대이용금액_체크_R12M: int64\n최대이용금액_카드론_R12M: int64\n이용개월수_신용_R12M: int64\n이용개월수_신판_R12M: int64\n이용개월수_일시불_R12M: int64\n이용개월수_할부_R12M: int64\n이용개월수_할부_유이자_R12M: int64\n이용개월수_할부_무이자_R12M: int64\n이용개월수_부분무이자_R12M: int64\n이용개월수_CA_R12M: int64\n이용개월수_체크_R12M: int64\n이용개월수_카드론_R12M: int64\n이용건수_신용_R6M: int64\n이용건수_신판_R6M: int64\n이용건수_일시불_R6M: int64\n이용건수_할부_R6M: int64\n이용건수_할부_유이자_R6M: int64\n이용건수_할부_무이자_R6M: int64\n이용건수_부분무이자_R6M: int64\n이용건수_CA_R6M: int64\n이용건수_체크_R6M: int64\n이용건수_카드론_R6M: int64\n이용금액_일시불_R6M: int64\n이용금액_할부_R6M: int64\n이용금액_할부_유이자_R6M: int64\n이용금액_할부_무이자_R6M: int64\n이용금액_부분무이자_R6M: int64\n이용금액_CA_R6M: int64\n이용금액_체크_R6M: int64\n이용금액_카드론_R6M: int64\n이용개월수_신용_R6M: int64\n이용개월수_신판_R6M: int64\n이용개월수_일시불_R6M: int64\n이용개월수_할부_R6M: int64\n이용개월수_할부_유이자_R6M: int64\n이용개월수_할부_무이자_R6M: int64\n이용개월수_부분무이자_R6M: int64\n이용개월수_CA_R6M: int64\n이용개월수_체크_R6M: int64\n이용개월수_카드론_R6M: int64\n이용건수_신용_R3M: int64\n이용건수_신판_R3M: int64\n이용건수_일시불_R3M: int64\n이용건수_할부_R3M: int64\n이용건수_할부_유이자_R3M: int64\n이용건수_할부_무이자_R3M: int64\n이용건수_부분무이자_R3M: int64\n이용건수_CA_R3M: int64\n이용건수_체크_R3M: int64\n이용건수_카드론_R3M: int64\n이용금액_일시불_R3M: int64\n이용금액_할부_R3M: int64\n이용금액_할부_유이자_R3M: int64\n이용금액_할부_무이자_R3M: int64\n이용금액_부분무이자_R3M: int64\n이용금액_CA_R3M: int64\n이용금액_체크_R3M: int64\n이용금액_카드론_R3M: int64\n이용개월수_신용_R3M: int64\n이용개월수_신판_R3M: int64\n이용개월수_일시불_R3M: int64\n이용개월수_할부_R3M: int64\n이용개월수_할부_유이자_R3M: int64\n이용개월수_할부_무이자_R3M: int64\n이용개월수_부분무이자_R3M: int64\n이용개월수_CA_R3M: int64\n이용개월수_체크_R3M: int64\n이용개월수_카드론_R3M: int64\n이용가맹점수: int64\n이용금액_해외: int64\n쇼핑_도소매_이용금액: int64\n쇼핑_백화점_이용금액: int64\n쇼핑_마트_이용금액: int64\n쇼핑_슈퍼마켓_이용금액: int64\n쇼핑_편의점_이용금액: int64\n쇼핑_아울렛_이용금액: int64\n쇼핑_온라인_이용금액: int64\n쇼핑_기타_이용금액: int64\n교통_주유이용금액: int64\n교통_정비이용금액: int64\n교통_통행료이용금액: int64\n교통_버스지하철이용금액: int64\n교통_택시이용금액: int64\n교통_철도버스이용금액: int64\n여유_운동이용금액: int64\n여유_Pet이용금액: int64\n여유_공연이용금액: int64\n여유_공원이용금액: int64\n여유_숙박이용금액: int64\n여유_여행이용금액: int64\n여유_항공이용금액: int64\n여유_기타이용금액: int64\n납부_통신비이용금액: int64\n납부_관리비이용금액: int64\n납부_렌탈료이용금액: int64\n납부_가스전기료이용금액: int64\n납부_보험료이용금액: int64\n납부_유선방송이용금액: int64\n납부_건강연금이용금액: int64\n납부_기타이용금액: int64\n_1순위업종: string\n_1순위업종_이용금액: int64\n_2순위업종: string\n_2순위업종_이용금액: int64\n_3순위업종: string\n_3순위업종_이용금액: int64\n_1순위쇼핑업종: string\n_1순위쇼핑업종_이용금액: int64\n_2순위쇼핑업종: string\n_2순위쇼핑업종_이용금액: int64\n_3순위쇼핑업종: string\n_3순위쇼핑업종_이용금액: int64\n_1순위교통업종: string\n_1순위교통업종_이용금액: int64\n_2순위교통업종: string\n_2순위교통업종_이용금액: int64\n_3순위교통업종: string\n_3순위교통업종_이용금액: int64\n_1순위여유업종: string\n_1순위여유업종_이용금액: int64\n_2순위여유업종: string\n_2순위여유업종_이용금액: int64\n_3순위여유업종: string\n_3순위여유업종_이용금액: int64\n_1순위납부업종: string\n_1순위납부업종_이용금액: int64\n_2순위납부업종: string\n_2순위납부업종_이용금액: int64\n_3순위납부업종: string\n_3순위납부업종_이용금액: int64\n할부건수_3M_R12M: int64\n할부건수_6M_R12M: int64\n할부건수_12M_R12M: int64\n할부건수_14M_R12M: int64\n할부금액_3M_R12M: int64\n할부금액_6M_R12M: int64\n할부금액_12M_R12M: int64\n할부금액_14M_R12M: int64\n할부건수_유이자_3M_R12M: int64\n할부건수_유이자_6M_R12M: int64\n할부건수_유이자_12M_R12M: int64\n할부건수_유이자_14M_R12M: int64\n할부금액_유이자_3M_R12M: int64\n할부금액_유이자_6M_R12M: int64\n할부금액_유이자_12M_R12M: int64\n할부금액_유이자_14M_R12M: int64\n할부건수_무이자_3M_R12M: int64\n할부건수_무이자_6M_R12M: int64\n할부건수_무이자_12M_R12M: int64\n할부건수_무이자_14M_R12M: int64\n할부금액_무이자_3M_R12M: int64\n할부금액_무이자_6M_R12M: int64\n할부금액_무이자_12M_R12M: int64\n할부금액_무이자_14M_R12M: int64\n할부건수_부분_3M_R12M: int64\n할부건수_부분_6M_R12M: int64\n할부건수_부분_12M_R12M: int64\n할부건수_부분_14M_R12M: int64\n할부금액_부분_3M_R12M: int64\n할부금액_부분_6M_R12M: int64\n할부금액_부분_12M_R12M: int64\n할부금액_부분_14M_R12M: int64\nRP건수_B0M: int64\nRP금액_B0M: int64\nRP유형건수_B0M: int64\nRP건수_통신_B0M: int64\nRP건수_아파트_B0M: int64\nRP건수_제휴사서비스직접판매_B0M: int64\nRP건수_렌탈_B0M: int64\nRP건수_가스_B0M: int64\nRP건수_전기_B0M: int64\nRP건수_보험_B0M: int64\nRP건수_학습비_B0M: int64\nRP건수_유선방송_B0M: int64\nRP건수_건강_B0M: int64\nRP건수_교통_B0M: int64\nRP후경과월: int64\nRP후경과월_통신: int64\nRP후경과월_아파트: int64\nRP후경과월_제휴사서비스직접판매: int64\nRP후경과월_렌탈: int64\nRP후경과월_가스: int64\nRP후경과월_전기: int64\nRP후경과월_보험: int64\nRP후경과월_학습비: int64\nRP후경과월_유선방송: int64\nRP후경과월_건강: int64\nRP후경과월_교통: int64\n증감_RP건수_전월: int64\n증감_RP유형건수_전월: int64\n증감_RP건수_통신_전월: int64\n증감_RP건수_아파트_전월: int64\n증감_RP건수_제휴사서비스직접판매_전월: int64\n증감_RP건수_렌탈_전월: int64\n증감_RP건수_가스_전월: int64\n증감_RP건수_전기_전월: int64\n증감_RP건수_보험_전월: int64\n증감_RP건수_학습비_전월: int64\n증감_RP건수_유선방송_전월: int64\n증감_RP건수_건강_전월: int64\n증감_RP건수_교통_전월: int64\n최초카드론이용경과월: int64\n최종카드론이용경과월: int64\n카드론이용건수_누적: int64\n카드론이용월수_누적: int64\n카드론이용금액_누적: int64\n최종카드론_금융상환방식코드: double\n최종카드론_신청경로코드: string\n최종카드론_대출이율: double\n최종카드론_대출일자: double\n최종카드론_대출월수: int64\n최종카드론_거치개월수: int64\n최종카드론_대출금액: int64\n이용개월수_온라인_R6M: int64\n이용개월수_오프라인_R6M: int64\n이용금액_온라인_R6M: int64\n이용금액_오프라인_R6M: int64\n이용건수_온라인_R6M: int64\n이용건수_오프라인_R6M: int64\n이용금액_온라인_R3M: int64\n이용금액_오프라인_R3M: int64\n이용건수_온라인_R3M: int64\n이용건수_오프라인_R3M: int64\n이용금액_온라인_B0M: int64\n이용금액_오프라인_B0M: int64\n이용건수_온라인_B0M: int64\n이용건수_오프라인_B0M: int64\n이용개월수_페이_온라인_R6M: int64\n이용개월수_페이_오프라인_R6M: int64\n이용금액_페이_온라인_R6M: int64\n이용금액_페이_오프라인_R6M: int64\n이용건수_페이_온라인_R6M: int64\n이용건수_페이_오프라인_R6M: int64\n이용금액_페이_온라인_R3M: int64\n이용금액_페이_오프라인_R3M: int64\n이용건수_페이_온라인_R3M: int64\n이용건수_페이_오프라인_R3M: int64\n이용금액_페이_온라인_B0M: int64\n이용금액_페이_오프라인_B0M: int64\n이용건수_페이_온라인_B0M: int64\n이용건수_페이_오프라인_B0M: int64\n이용개월수_간편결제_R6M: int64\n이용개월수_당사페이_R6M: int64\n이용개월수_당사기타_R6M: int64\n이용개월수_A페이_R6M: int64\n이용개월수_B페이_R6M: int64\n이용개월수_C페이_R6M: int64\n이용개월수_D페이_R6M: int64\n이용금액_간편결제_R6M: int64\n이용금액_당사페이_R6M: int64\n이용금액_당사기타_R6M: int64\n이용금액_A페이_R6M: int64\n이용금액_B페이_R6M: int64\n이용금액_C페이_R6M: int64\n이용금액_D페이_R6M: int64\n이용건수_간편결제_R6M: int64\n이용건수_당사페이_R6M: int64\n이용건수_당사기타_R6M: int64\n이용건수_A페이_R6M: int64\n이용건수_B페이_R6M: int64\n이용건수_C페이_R6M: int64\n이용건수_D페이_R6M: int64\n이용금액_간편결제_R3M: int64\n이용금액_당사페이_R3M: int64\n이용금액_당사기타_R3M: int64\n이용금액_A페이_R3M: int64\n이용금액_B페이_R3M: int64\n이용금액_C페이_R3M: int64\n이용금액_D페이_R3M: int64\n이용건수_간편결제_R3M: int64\n이용건수_당사페이_R3M: int64\n이용건수_당사기타_R3M: int64\n이용건수_A페이_R3M: int64\n이용건수_B페이_R3M: int64\n이용건수_C페이_R3M: int64\n이용건수_D페이_R3M: int64\n이용금액_간편결제_B0M: int64\n이용금액_당사페이_B0M: int64\n이용금액_당사기타_B0M: int64\n이용금액_A페이_B0M: int64\n이용금액_B페이_B0M: int64\n이용금액_C페이_B0M: int64\n이용금액_D페이_B0M: int64\n이용건수_간편결제_B0M: int64\n이용건수_당사페이_B0M: int64\n이용건수_당사기타_B0M: int64\n이용건수_A페이_B0M: int64\n이용건수_B페이_B0M: int64\n이용건수_C페이_B0M: int64\n이용건수_D페이_B0M: int64\n이용개월수_선결제_R6M: int64\n이용횟수_선결제_R6M: int64\n이용금액_선결제_R6M: int64\n이용건수_선결제_R6M: int64\n이용횟수_선결제_R3M: int64\n이용금액_선결제_R3M: int64\n이용건수_선결제_R3M: int64\n이용횟수_선결제_B0M: int64\n이용금액_선결제_B0M: int64\n이용건수_선결제_B0M: int64\n이용횟수_연체_R6M: int64\n이용금액_연체_R6M: int64\n이용횟수_연체_R3M: int64\n이용금액_연체_R3M: int64\n이용횟수_연체_B0M: int64\n이용금액_연체_B0M: int64\n이용개월수_전체_R6M: int64\n이용개월수_전체_R3M: int64\n이용개월수_결제일_R6M: int64\n이용개월수_결제일_R3M: int64\n가맹점매출금액_B1M: int64\n가맹점매출금액_B2M: int64\n정상청구원금_B0M: int64\n선입금원금_B0M: int64\n정상입금원금_B0M: int64\n연체입금원금_B0M: int64\n정상청구원금_B2M: int64\n선입금원금_B2M: int64\n정상입금원금_B2M: int64\n연체입금원금_B2M: int64\n정상청구원금_B5M: int64\n선입금원금_B5M: int64\n정상입금원금_B5M: int64\n연체입금원금_B5M: int64\n건수_할부전환_R6M: int64\n건수_할부전환_R3M: int64\n금액_할부전환_R6M: int64\n금액_할부전환_R3M: int64\n연속무실적개월수_기본_24M_카드: int64\n연속유실적개월수_기본_24M_카드: int64\n신청건수_ATM_CA_B0: int64\n신청건수_ATM_CL_B0: int64\n신청건수_ATM_CA_R6M: int64\n신청건수_ATM_CL_R6M: int64\n승인거절건수_B0M: int64\n승인거절건수_한도초과_B0M: int64\n승인거절건수_BL_B0M: int64\n승인거절건수_입력오류_B0M: int64\n승인거절건수_기타_B0M: int64\n승인거절건수_R3M: int64\n승인거절건수_한도초과_R3M: int64\n승인거절건수_BL_R3M: int64\n승인거절건수_입력오류_R3M: int64\n승인거절건수_기타_R3M: int64\n이용금액대: string\n__fragment_index: int32\n__batch_index: int32\n__last_in_fragment: bool\n__filename: string"
     ]
    }
   ],
   "source": [
    "# 두 번째 셀\n",
    "# 데이터 로드\n",
    "data_path = '../../open/train'\n",
    "loader = CreditCardDataLoader(data_path)\n",
    "\n",
    "# 필요한 컬럼만 선택\n",
    "member_cols = ['ID', '연령', '남녀구분코드', 'Segment']\n",
    "credit_cols = ['ID', '카드이용한도금액', '시장단기연체여부_R3M']\n",
    "transaction_cols = ['ID', '이용금액_신용_B0M', '_1순위업종']\n",
    "\n",
    "# 회원 데이터 로드\n",
    "member_files = glob.glob(str(Path(data_path) / '1.회원정보' / '*.parquet'))\n",
    "member_df = pd.concat([pd.read_parquet(f, columns=member_cols) for f in member_files], ignore_index=True)\n",
    "\n",
    "# 신용 데이터 로드\n",
    "credit_files = glob.glob(str(Path(data_path) / '2.신용정보' / '*.parquet'))\n",
    "credit_df = pd.concat([pd.read_parquet(f, columns=credit_cols) for f in credit_files], ignore_index=True)\n",
    "\n",
    "# 승인매출 데이터 로드\n",
    "transaction_files = glob.glob(str(Path(data_path) / '3.승인매출정보' / '*.parquet'))\n",
    "transaction_df = pd.concat([pd.read_parquet(f, columns=transaction_cols) for f in transaction_files], ignore_index=True)\n",
    "\n",
    "# 데이터 타입 최적화\n",
    "member_df['연령'] = member_df['연령'].astype('int8')\n",
    "member_df['남녀구분코드'] = member_df['남녀구분코드'].astype('int8')\n",
    "credit_df['카드이용한도금액'] = credit_df['카드이용한도금액'].astype('float32')\n",
    "credit_df['시장단기연체여부_R3M'] = credit_df['시장단기연체여부_R3M'].astype('int8')\n",
    "transaction_df['이용금액_신용_B0M'] = transaction_df['이용금액_신용_B0M'].astype('float32')\n",
    "\n",
    "# 메모리 사용량 확인\n",
    "print(f\"회원 데이터 크기: {member_df.memory_usage(deep=True).sum() / 1024**2:.2f} MB\")\n",
    "print(f\"신용 데이터 크기: {credit_df.memory_usage(deep=True).sum() / 1024**2:.2f} MB\")\n",
    "print(f\"승인매출 데이터 크기: {transaction_df.memory_usage(deep=True).sum() / 1024**2:.2f} MB\")"
   ]
  },
  {
   "cell_type": "code",
   "execution_count": null,
   "metadata": {},
   "outputs": [],
   "source": [
    "# 세 번째 셀\n",
    "# 회원 데이터 상세 분석\n",
    "print(\"=== 회원 데이터 상세 분석 ===\")\n",
    "print(\"\\n1. 연령대 분포\")\n",
    "member_df['연령대'] = pd.cut(member_df['연령'], bins=[0, 20, 30, 40, 50, 60, 100], labels=['20대 이하', '20대', '30대', '40대', '50대', '60대 이상'])\n",
    "age_dist = member_df['연령대'].value_counts().sort_index()\n",
    "plt.figure(figsize=(10, 6))\n",
    "sns.barplot(x=age_dist.index, y=age_dist.values)\n",
    "plt.title('연령대별 회원 분포')\n",
    "plt.xticks(rotation=45)\n",
    "plt.show()"
   ]
  },
  {
   "cell_type": "code",
   "execution_count": null,
   "metadata": {},
   "outputs": [],
   "source": [
    "# 네 번째 셀\n",
    "print(\"\\n2. 성별 분포\")\n",
    "gender_dist = member_df['남녀구분코드'].value_counts()\n",
    "plt.figure(figsize=(8, 6))\n",
    "plt.pie(gender_dist.values, labels=['남성', '여성'], autopct='%1.1f%%')\n",
    "plt.title('성별 분포')\n",
    "plt.show()"
   ]
  },
  {
   "cell_type": "code",
   "execution_count": null,
   "metadata": {},
   "outputs": [],
   "source": [
    "# 다섯 번째 셀\n",
    "# 신용 데이터 상세 분석\n",
    "print(\"\\n=== 신용 데이터 상세 분석 ===\")\n",
    "print(\"\\n1. 신용한도 분포\")\n",
    "plt.figure(figsize=(12, 6))\n",
    "sns.histplot(data=credit_df, x='카드이용한도금액', bins=50)\n",
    "plt.title('카드이용한도금액 분포')\n",
    "plt.show()"
   ]
  },
  {
   "cell_type": "code",
   "execution_count": null,
   "metadata": {},
   "outputs": [],
   "source": [
    "# 여섯 번째 셀\n",
    "print(\"\\n2. 신용한도와 연체 관계\")\n",
    "plt.figure(figsize=(10, 6))\n",
    "sns.boxplot(data=credit_df, x='시장단기연체여부_R3M', y='카드이용한도금액')\n",
    "plt.title('연체여부에 따른 신용한도 분포')\n",
    "plt.show()"
   ]
  },
  {
   "cell_type": "code",
   "execution_count": null,
   "metadata": {},
   "outputs": [],
   "source": [
    "# 일곱 번째 셀\n",
    "# 승인매출 데이터 상세 분석\n",
    "print(\"\\n=== 승인매출 데이터 상세 분석 ===\")\n",
    "print(\"\\n1. 월별 승인매출 추이\")\n",
    "transaction_df['기준년월'] = pd.to_datetime(transaction_df['기준년월'].astype(str), format='%Y%m')\n",
    "monthly_sales = transaction_df.groupby('기준년월')['이용금액_신용_B0M'].sum()\n",
    "plt.figure(figsize=(15, 6))\n",
    "monthly_sales.plot()\n",
    "plt.title('월별 승인매출 추이')\n",
    "plt.xticks(rotation=45)\n",
    "plt.show()"
   ]
  },
  {
   "cell_type": "code",
   "execution_count": null,
   "metadata": {},
   "outputs": [],
   "source": [
    "# 여덟 번째 셀\n",
    "print(\"\\n2. 업종별 승인매출 분포\")\n",
    "plt.figure(figsize=(12, 6))\n",
    "sns.boxplot(data=transaction_df, x='_1순위업종', y='이용금액_신용_B0M')\n",
    "plt.title('업종별 승인매출 분포')\n",
    "plt.xticks(rotation=45)\n",
    "plt.show()"
   ]
  },
  {
   "cell_type": "code",
   "execution_count": null,
   "metadata": {},
   "outputs": [],
   "source": [
    "# 아홉 번째 셀\n",
    "# 데이터 통합 분석\n",
    "print(\"\\n=== 데이터 통합 분석 ===\")\n",
    "print(\"\\n1. 신용한도와 승인매출 관계\")\n",
    "merged_df = pd.merge(credit_df, transaction_df, on='ID', how='inner')\n",
    "plt.figure(figsize=(10, 6))\n",
    "sns.scatterplot(data=merged_df, x='카드이용한도금액', y='이용금액_신용_B0M')\n",
    "plt.title('신용한도와 승인매출 관계')\n",
    "plt.show()"
   ]
  },
  {
   "cell_type": "code",
   "execution_count": null,
   "metadata": {},
   "outputs": [],
   "source": [
    "# 열 번째 셀\n",
    "print(\"\\n2. 연령대별 평균 승인매출\")\n",
    "age_sales = merged_df.groupby('연령대')['이용금액_신용_B0M'].mean().sort_index()\n",
    "plt.figure(figsize=(10, 6))\n",
    "sns.barplot(x=age_sales.index, y=age_sales.values)\n",
    "plt.title('연령대별 평균 승인매출')\n",
    "plt.xticks(rotation=45)\n",
    "plt.show()"
   ]
  },
  {
   "cell_type": "code",
   "execution_count": null,
   "metadata": {},
   "outputs": [],
   "source": [
    "# 열한 번째 셀\n",
    "# 결측치 분석\n",
    "print(\"\\n=== 결측치 분석 ===\")\n",
    "for name, df in data.items():\n",
    "    missing = df.isnull().sum()\n",
    "    if missing.sum() > 0:\n",
    "        print(f\"\\n{name} 데이터 결측치:\")\n",
    "        print(missing[missing > 0])"
   ]
  },
  {
   "cell_type": "code",
   "execution_count": null,
   "metadata": {},
   "outputs": [],
   "source": [
    "# 열두 번째 셀\n",
    "# 이상치 분석\n",
    "print(\"\\n=== 이상치 분석 ===\")\n",
    "for name, df in data.items():\n",
    "    print(f\"\\n{name} 데이터 이상치:\")\n",
    "    for col in df.select_dtypes(include=[np.number]).columns:\n",
    "        Q1 = df[col].quantile(0.25)\n",
    "        Q3 = df[col].quantile(0.75)\n",
    "        IQR = Q3 - Q1\n",
    "        outliers = df[(df[col] < Q1 - 1.5 * IQR) | (df[col] > Q3 + 1.5 * IQR)][col]\n",
    "        if len(outliers) > 0:\n",
    "            print(f\"{col}: {len(outliers)}개 이상치 발견\")"
   ]
  }
 ],
 "metadata": {
  "kernelspec": {
   "display_name": "credit-segment",
   "language": "python",
   "name": "python3"
  },
  "language_info": {
   "codemirror_mode": {
    "name": "ipython",
    "version": 3
   },
   "file_extension": ".py",
   "mimetype": "text/x-python",
   "name": "python",
   "nbconvert_exporter": "python",
   "pygments_lexer": "ipython3",
   "version": "3.9.22"
  }
 },
 "nbformat": 4,
 "nbformat_minor": 2
}
